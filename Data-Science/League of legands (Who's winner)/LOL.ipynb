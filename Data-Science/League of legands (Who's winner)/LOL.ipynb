{
 "cells": [
  {
   "cell_type": "markdown",
   "metadata": {},
   "source": [
    "## 1.Importing Needed libraries"
   ]
  },
  {
   "cell_type": "code",
   "execution_count": 2,
   "metadata": {},
   "outputs": [],
   "source": [
    "import pandas as pd\n",
    "import seaborn as sns\n",
    "import matplotlib.pyplot as plt\n",
    "from sklearn.model_selection import train_test_split,GridSearchCV\n",
    "from sklearn.tree import DecisionTreeClassifier\n",
    "from sklearn.ensemble import RandomForestClassifier\n",
    "from sklearn.preprocessing import StandardScaler\n",
    "from sklearn.metrics import accuracy_score\n",
    "import warnings\n",
    "warnings.filterwarnings(\"ignore\")"
   ]
  },
  {
   "cell_type": "markdown",
   "metadata": {},
   "source": [
    "## 2.Calling the path of data"
   ]
  },
  {
   "cell_type": "code",
   "execution_count": 3,
   "metadata": {},
   "outputs": [],
   "source": [
    "lol_data = (\"games.csv\")"
   ]
  },
  {
   "cell_type": "markdown",
   "metadata": {},
   "source": [
    "## 2.Wrangling Function for data"
   ]
  },
  {
   "cell_type": "code",
   "execution_count": 4,
   "metadata": {},
   "outputs": [],
   "source": [
    "def wrangle(lol_path):\n",
    "    # Calling data\n",
    "    lol = pd.read_csv(lol_path)\n",
    "    # Simple look at data\n",
    "    print(lol.head())\n",
    "    # Simple Info of data\n",
    "    print(lol.info())\n",
    "    # Null values?\n",
    "    print(lol.describe())\n",
    "    # Getting only needed columns, which will help in classification problem\n",
    "    League_Data=lol[[\"winner\",\"firstBlood\",\"firstTower\",\"firstInhibitor\",\"firstBaron\",\"firstDragon\",\"firstRiftHerald\",\"t1_towerKills\",\"t1_inhibitorKills\",'t1_baronKills',\n",
    "       't1_dragonKills','t2_towerKills','t2_inhibitorKills', 't2_baronKills', 't2_dragonKills']]\n",
    "    print(\"Checking any irrelevant in data ✅\")\n",
    "    print(\"Info of data ✅\")\n",
    "    print(\"Retrieving only needed columns from data ✅\")\n",
    "    return League_Data\n",
    "    "
   ]
  },
  {
   "cell_type": "code",
   "execution_count": 5,
   "metadata": {},
   "outputs": [
    {
     "name": "stdout",
     "output_type": "stream",
     "text": [
      "       gameId  creationTime  gameDuration  seasonId  winner  firstBlood  \\\n",
      "0  3326086514  1.504280e+12          1949         9       1           2   \n",
      "1  3229566029  1.497850e+12          1851         9       1           1   \n",
      "2  3327363504  1.504360e+12          1493         9       1           2   \n",
      "3  3326856598  1.504350e+12          1758         9       1           1   \n",
      "4  3330080762  1.504550e+12          2094         9       1           2   \n",
      "\n",
      "   firstTower  firstInhibitor  firstBaron  firstDragon  ...  t2_towerKills  \\\n",
      "0           1               1           1            1  ...              5   \n",
      "1           1               1           0            1  ...              2   \n",
      "2           1               1           1            2  ...              2   \n",
      "3           1               1           1            1  ...              0   \n",
      "4           1               1           1            1  ...              3   \n",
      "\n",
      "   t2_inhibitorKills  t2_baronKills  t2_dragonKills  t2_riftHeraldKills  \\\n",
      "0                  0              0               1                   1   \n",
      "1                  0              0               0                   0   \n",
      "2                  0              0               1                   0   \n",
      "3                  0              0               0                   0   \n",
      "4                  0              0               1                   0   \n",
      "\n",
      "   t2_ban1  t2_ban2  t2_ban3  t2_ban4  t2_ban5  \n",
      "0      114       67       43       16       51  \n",
      "1       11       67      238       51      420  \n",
      "2      157      238      121       57       28  \n",
      "3      164       18      141       40       51  \n",
      "4       86       11      201      122       18  \n",
      "\n",
      "[5 rows x 61 columns]\n",
      "<class 'pandas.core.frame.DataFrame'>\n",
      "RangeIndex: 51490 entries, 0 to 51489\n",
      "Data columns (total 61 columns):\n",
      " #   Column              Non-Null Count  Dtype  \n",
      "---  ------              --------------  -----  \n",
      " 0   gameId              51490 non-null  int64  \n",
      " 1   creationTime        51490 non-null  float64\n",
      " 2   gameDuration        51490 non-null  int64  \n",
      " 3   seasonId            51490 non-null  int64  \n",
      " 4   winner              51490 non-null  int64  \n",
      " 5   firstBlood          51490 non-null  int64  \n",
      " 6   firstTower          51490 non-null  int64  \n",
      " 7   firstInhibitor      51490 non-null  int64  \n",
      " 8   firstBaron          51490 non-null  int64  \n",
      " 9   firstDragon         51490 non-null  int64  \n",
      " 10  firstRiftHerald     51490 non-null  int64  \n",
      " 11  t1_champ1id         51490 non-null  int64  \n",
      " 12  t1_champ1_sum1      51490 non-null  int64  \n",
      " 13  t1_champ1_sum2      51490 non-null  int64  \n",
      " 14  t1_champ2id         51490 non-null  int64  \n",
      " 15  t1_champ2_sum1      51490 non-null  int64  \n",
      " 16  t1_champ2_sum2      51490 non-null  int64  \n",
      " 17  t1_champ3id         51490 non-null  int64  \n",
      " 18  t1_champ3_sum1      51490 non-null  int64  \n",
      " 19  t1_champ3_sum2      51490 non-null  int64  \n",
      " 20  t1_champ4id         51490 non-null  int64  \n",
      " 21  t1_champ4_sum1      51490 non-null  int64  \n",
      " 22  t1_champ4_sum2      51490 non-null  int64  \n",
      " 23  t1_champ5id         51490 non-null  int64  \n",
      " 24  t1_champ5_sum1      51490 non-null  int64  \n",
      " 25  t1_champ5_sum2      51490 non-null  int64  \n",
      " 26  t1_towerKills       51490 non-null  int64  \n",
      " 27  t1_inhibitorKills   51490 non-null  int64  \n",
      " 28  t1_baronKills       51490 non-null  int64  \n",
      " 29  t1_dragonKills      51490 non-null  int64  \n",
      " 30  t1_riftHeraldKills  51490 non-null  int64  \n",
      " 31  t1_ban1             51490 non-null  int64  \n",
      " 32  t1_ban2             51490 non-null  int64  \n",
      " 33  t1_ban3             51490 non-null  int64  \n",
      " 34  t1_ban4             51490 non-null  int64  \n",
      " 35  t1_ban5             51490 non-null  int64  \n",
      " 36  t2_champ1id         51490 non-null  int64  \n",
      " 37  t2_champ1_sum1      51490 non-null  int64  \n",
      " 38  t2_champ1_sum2      51490 non-null  int64  \n",
      " 39  t2_champ2id         51490 non-null  int64  \n",
      " 40  t2_champ2_sum1      51490 non-null  int64  \n",
      " 41  t2_champ2_sum2      51490 non-null  int64  \n",
      " 42  t2_champ3id         51490 non-null  int64  \n",
      " 43  t2_champ3_sum1      51490 non-null  int64  \n",
      " 44  t2_champ3_sum2      51490 non-null  int64  \n",
      " 45  t2_champ4id         51490 non-null  int64  \n",
      " 46  t2_champ4_sum1      51490 non-null  int64  \n",
      " 47  t2_champ4_sum2      51490 non-null  int64  \n",
      " 48  t2_champ5id         51490 non-null  int64  \n",
      " 49  t2_champ5_sum1      51490 non-null  int64  \n",
      " 50  t2_champ5_sum2      51490 non-null  int64  \n",
      " 51  t2_towerKills       51490 non-null  int64  \n",
      " 52  t2_inhibitorKills   51490 non-null  int64  \n",
      " 53  t2_baronKills       51490 non-null  int64  \n",
      " 54  t2_dragonKills      51490 non-null  int64  \n",
      " 55  t2_riftHeraldKills  51490 non-null  int64  \n",
      " 56  t2_ban1             51490 non-null  int64  \n",
      " 57  t2_ban2             51490 non-null  int64  \n",
      " 58  t2_ban3             51490 non-null  int64  \n",
      " 59  t2_ban4             51490 non-null  int64  \n",
      " 60  t2_ban5             51490 non-null  int64  \n",
      "dtypes: float64(1), int64(60)\n",
      "memory usage: 24.0 MB\n",
      "None\n",
      "             gameId  creationTime  gameDuration  seasonId        winner  \\\n",
      "count  5.149000e+04  5.149000e+04  51490.000000   51490.0  51490.000000   \n",
      "mean   3.306223e+09  1.502926e+12   1832.362808       9.0      1.493552   \n",
      "std    2.946096e+07  1.978015e+09    512.017696       0.0      0.499963   \n",
      "min    3.214824e+09  1.496890e+12    190.000000       9.0      1.000000   \n",
      "25%    3.292218e+09  1.502020e+12   1531.000000       9.0      1.000000   \n",
      "50%    3.320021e+09  1.503840e+12   1833.000000       9.0      1.000000   \n",
      "75%    3.327099e+09  1.504350e+12   2148.000000       9.0      2.000000   \n",
      "max    3.331833e+09  1.504710e+12   4728.000000       9.0      2.000000   \n",
      "\n",
      "         firstBlood    firstTower  firstInhibitor    firstBaron   firstDragon  \\\n",
      "count  51490.000000  51490.000000    51490.000000  51490.000000  51490.000000   \n",
      "mean       1.471295      1.450631        1.308487      0.926510      1.442804   \n",
      "std        0.520326      0.542848        0.676097      0.841424      0.569579   \n",
      "min        0.000000      0.000000        0.000000      0.000000      0.000000   \n",
      "25%        1.000000      1.000000        1.000000      0.000000      1.000000   \n",
      "50%        1.000000      1.000000        1.000000      1.000000      1.000000   \n",
      "75%        2.000000      2.000000        2.000000      2.000000      2.000000   \n",
      "max        2.000000      2.000000        2.000000      2.000000      2.000000   \n",
      "\n",
      "       ...  t2_towerKills  t2_inhibitorKills  t2_baronKills  t2_dragonKills  \\\n",
      "count  ...   51490.000000       51490.000000   51490.000000    51490.000000   \n",
      "mean   ...       5.549466           0.985084       0.414547        1.404370   \n",
      "std    ...       3.860989           1.256284       0.613768        1.224492   \n",
      "min    ...       0.000000           0.000000       0.000000        0.000000   \n",
      "25%    ...       2.000000           0.000000       0.000000        0.000000   \n",
      "50%    ...       6.000000           0.000000       0.000000        1.000000   \n",
      "75%    ...       9.000000           2.000000       1.000000        2.000000   \n",
      "max    ...      11.000000          10.000000       4.000000        6.000000   \n",
      "\n",
      "       t2_riftHeraldKills       t2_ban1       t2_ban2       t2_ban3  \\\n",
      "count        51490.000000  51490.000000  51490.000000  51490.000000   \n",
      "mean             0.240105    108.216294    107.910216    108.690581   \n",
      "std              0.427151    102.551787    102.870710    102.592145   \n",
      "min              0.000000     -1.000000     -1.000000     -1.000000   \n",
      "25%              0.000000     38.000000     37.000000     38.000000   \n",
      "50%              0.000000     90.000000     90.000000     90.000000   \n",
      "75%              0.000000    141.000000    141.000000    141.000000   \n",
      "max              1.000000    516.000000    516.000000    516.000000   \n",
      "\n",
      "            t2_ban4       t2_ban5  \n",
      "count  51490.000000  51490.000000  \n",
      "mean     108.626044    108.066576  \n",
      "std      103.346952    102.756149  \n",
      "min       -1.000000     -1.000000  \n",
      "25%       38.000000     38.000000  \n",
      "50%       90.000000     90.000000  \n",
      "75%      141.000000    141.000000  \n",
      "max      516.000000    516.000000  \n",
      "\n",
      "[8 rows x 61 columns]\n",
      "Checking any irrelevant in data ✅\n",
      "Info of data ✅\n",
      "Retrieving only needed columns from data ✅\n"
     ]
    }
   ],
   "source": [
    "lol = wrangle(lol_path=lol_data)"
   ]
  },
  {
   "cell_type": "markdown",
   "metadata": {},
   "source": [
    "## 3.Some EDA for data\n",
    "### League has 2 side, top right and bottom left, and the blue team is in the side of bottom left, while red team are at top right of the map "
   ]
  },
  {
   "cell_type": "code",
   "execution_count": 6,
   "metadata": {},
   "outputs": [],
   "source": [
    "# Assigning each team in variable\n",
    "first_team = lol[lol.winner==1] \n",
    "second_team = lol[lol.winner==2]"
   ]
  },
  {
   "cell_type": "code",
   "execution_count": 7,
   "metadata": {},
   "outputs": [
    {
     "name": "stdout",
     "output_type": "stream",
     "text": [
      "Proportion of wins for team 1 when they had the first blood: 59.6%\n",
      "Proportion of wins for team 1 when the opponent had the first blood: 39.3%\n",
      "Proportion of wins for team 1 in rematches: 1.1%\n",
      "Proportion of wins for team 2 when they had the first blood: 41.6%\n",
      "Proportion of wins for team 2 when the opponent had the first blood: 57.4%\n",
      "Proportion of wins for team 2 in rematches: 1.0%\n"
     ]
    }
   ],
   "source": [
    "# Calculate the number of wins for each team and first blood combination\n",
    "win_counts = lol.groupby([\"winner\", \"firstBlood\"]).size().reset_index(name=\"count\")\n",
    "# Calculate the total number of wins for each team\n",
    "team_1_wins = win_counts[win_counts[\"winner\"] == 1][\"count\"].sum()\n",
    "team_2_wins = win_counts[win_counts[\"winner\"] == 2][\"count\"].sum()\n",
    "# Calculate the proportions of wins for team 1 when they had first blood, opponent had first blood, or in rematches\n",
    "team_1_win_first_blood_for_team_1 = win_counts[(win_counts[\"winner\"] == 1) & (win_counts[\"firstBlood\"] == 1)][\"count\"].values[0] / team_1_wins\n",
    "team_1_win_first_blood_for_team_2 = win_counts[(win_counts[\"winner\"] == 1) & (win_counts[\"firstBlood\"] == 2)][\"count\"].values[0] / team_1_wins\n",
    "team_1_win_first_blood_for_remake = win_counts[(win_counts[\"winner\"] == 1) & (win_counts[\"firstBlood\"] == 0)][\"count\"].values[0] / team_1_wins\n",
    "# Calculate the proportions of wins for team 2 when they had first blood, opponent had first blood, or in rematches\n",
    "team_2_win_first_blood_for_team_1 = win_counts[(win_counts[\"winner\"] == 2) & (win_counts[\"firstBlood\"] == 1)][\"count\"].values[0] / team_2_wins\n",
    "team_2_win_first_blood_for_team_2 = win_counts[(win_counts[\"winner\"] == 2) & (win_counts[\"firstBlood\"] == 2)][\"count\"].values[0] / team_2_wins\n",
    "team_2_win_first_blood_for_remake = win_counts[(win_counts[\"winner\"] == 2) & (win_counts[\"firstBlood\"] == 0)][\"count\"].values[0] / team_2_wins\n",
    "# Print the results\n",
    "print(f\"Proportion of wins for team 1 when they had the first blood: {team_1_win_first_blood_for_team_1:.1%}\"\n",
    ",f\"Proportion of wins for team 1 when the opponent had the first blood: {team_1_win_first_blood_for_team_2:.1%}\"\n",
    ",f\"Proportion of wins for team 1 in rematches: {team_1_win_first_blood_for_remake:.1%}\",sep='\\n')\n",
    "print(f\"Proportion of wins for team 2 when they had the first blood: {team_2_win_first_blood_for_team_1:.1%}\"\n",
    ",f\"Proportion of wins for team 2 when the opponent had the first blood: {team_2_win_first_blood_for_team_2:.1%}\"\n",
    ",f\"Proportion of wins for team 2 in rematches: {team_2_win_first_blood_for_remake:.1%}\",sep='\\n')"
   ]
  },
  {
   "cell_type": "code",
   "execution_count": 8,
   "metadata": {},
   "outputs": [
    {
     "data": {
      "image/png": "[encoded data removed]",
      "text/plain": [
       "<Figure size 2000x1000 with 8 Axes>"
      ]
     },
     "metadata": {},
     "output_type": "display_data"
    }
   ],
   "source": [
    "Towers_Barons_Drakes_Inhib=lol[[\"winner\",\"t1_towerKills\",\"t1_inhibitorKills\",\"t1_baronKills\",\"t1_dragonKills\",\"t2_towerKills\",\"t2_inhibitorKills\",\"t2_baronKills\",\"t2_dragonKills\"]]\n",
    "Towers_Barons_Drakes_Inhib.groupby(\"winner\").mean()\n",
    "Towers_Barons_Drakes_Inhib.groupby(\"winner\").mean().plot(kind=\"bar\",subplots=True,sharex=False,sharey=False,figsize=(20,10),layout=(2,4),title=\"Details of each team for winning his game\")\n",
    "plt.show()"
   ]
  },
  {
   "cell_type": "markdown",
   "metadata": {},
   "source": [
    "## 4.Building our model\n",
    "### it's based on classifcation problem, so let's try Tree and Random forest!"
   ]
  },
  {
   "cell_type": "code",
   "execution_count": 9,
   "metadata": {},
   "outputs": [],
   "source": [
    "features = lol.drop(columns=['winner'])\n",
    "target = lol['winner']"
   ]
  },
  {
   "cell_type": "code",
   "execution_count": 10,
   "metadata": {},
   "outputs": [
    {
     "name": "stdout",
     "output_type": "stream",
     "text": [
      "(41192, 14)\n",
      "(10298, 14)\n",
      "(41192,)\n",
      "(10298,)\n"
     ]
    },
    {
     "data": {
      "text/plain": [
       "array([[ 1.01611295,  1.0120213 ,  1.02281125, ...,  1.60388445,\n",
       "         0.9538764 ,  1.30310827],\n",
       "       [ 1.01611295,  1.0120213 ,  1.02281125, ...,  0.80787865,\n",
       "        -0.67541854,  0.48643517],\n",
       "       [ 1.01611295, -0.83013151, -1.93537283, ..., -0.78413297,\n",
       "        -0.67541854, -1.14691102],\n",
       "       ...,\n",
       "       [ 1.01611295, -0.83013151,  1.02281125, ...,  0.80787865,\n",
       "        -0.67541854,  1.30310827],\n",
       "       [ 1.01611295,  1.0120213 , -0.45628079, ..., -0.78413297,\n",
       "        -0.67541854, -1.14691102],\n",
       "       [-0.90577868,  1.0120213 ,  1.02281125, ...,  2.39989026,\n",
       "         0.9538764 ,  0.48643517]])"
      ]
     },
     "execution_count": 10,
     "metadata": {},
     "output_type": "execute_result"
    }
   ],
   "source": [
    "sd = StandardScaler()\n",
    "features = sd.fit_transform(features)\n",
    "X_train,X_test,y_train,y_test = train_test_split(features,target,test_size=0.2,random_state=42)\n",
    "print(X_train.shape,X_test.shape,y_train.shape,y_test.shape,sep=\"\\n\")\n",
    "X_train"
   ]
  },
  {
   "cell_type": "code",
   "execution_count": 11,
   "metadata": {},
   "outputs": [],
   "source": [
    "def model_creation(X_train, y_train):\n",
    "    # Define hyperparameters grid for DecisionTreeClassifier\n",
    "    tree_param_grid = {\n",
    "        'criterion': ['gini', 'entropy'],\n",
    "        'max_depth': [None, 10, 20, 30],\n",
    "        'min_samples_split': [2, 5, 10],\n",
    "        'min_samples_leaf': [1, 2, 4],\n",
    "        'splitter': ['best', 'random']  \n",
    "    }\n",
    "    # Create a DecisionTreeClassifier\n",
    "    tree_classifier = DecisionTreeClassifier(random_state=100)\n",
    "    # Perform grid search with cross-validation for DecisionTreeClassifier\n",
    "    tree_grid_search = GridSearchCV(tree_classifier, tree_param_grid, cv=5)\n",
    "    tree_grid_search.fit(X_train, y_train)\n",
    "    # Print the best hyperparameters for the DecisionTreeClassifier\n",
    "    print(\"Best hyperparameters for DecisionTreeClassifier:\")\n",
    "    print(tree_grid_search.best_params_)\n",
    "    # Define hyperparameters grid for RandomForestClassifier\n",
    "    rf_param_grid = {\n",
    "        'n_estimators': [50, 100, 200],\n",
    "        'criterion': ['gini', 'entropy'],\n",
    "        'max_depth': [None, 10, 20, 30]\n",
    "    }\n",
    "    # Create a RandomForestClassifier\n",
    "    rf_classifier = RandomForestClassifier(random_state=100)\n",
    "    # Perform grid search with cross-validation for RandomForestClassifier\n",
    "    rf_grid_search = GridSearchCV(rf_classifier, rf_param_grid, cv=5)\n",
    "    rf_grid_search.fit(X_train, y_train)\n",
    "    # Print the best hyperparameters for the RandomForestClassifier\n",
    "    print(\"Best hyperparameters for RandomForestClassifier:\")\n",
    "    print(rf_grid_search.best_params_)\n",
    "    \n",
    "    # Return the best models\n",
    "    best_tree_model = tree_grid_search.best_estimator_\n",
    "    best_rf_model = rf_grid_search.best_estimator_\n",
    "\n",
    "    return best_tree_model, best_rf_model\n"
   ]
  },
  {
   "cell_type": "code",
   "execution_count": 12,
   "metadata": {},
   "outputs": [
    {
     "name": "stdout",
     "output_type": "stream",
     "text": [
      "Best hyperparameters for DecisionTreeClassifier:\n",
      "{'criterion': 'entropy', 'max_depth': 10, 'min_samples_leaf': 4, 'min_samples_split': 10, 'splitter': 'best'}\n",
      "Best hyperparameters for RandomForestClassifier:\n",
      "{'criterion': 'gini', 'max_depth': 10, 'n_estimators': 200}\n"
     ]
    }
   ],
   "source": [
    "# Let's run it!\n",
    "best_tree_model, best_rf_model = model_creation(X_train, y_train)"
   ]
  },
  {
   "cell_type": "code",
   "execution_count": 13,
   "metadata": {},
   "outputs": [
    {
     "name": "stdout",
     "output_type": "stream",
     "text": [
      "Tree model has Achieved about : 97.38%\n",
      "Random Forest model has Achieved about : 97.82%\n"
     ]
    }
   ],
   "source": [
    "# print scores \n",
    "print(f\"Tree model has Achieved about : {best_tree_model.score(X_train,y_train):.2%}\",\n",
    "      f\"Random Forest model has Achieved about : {best_rf_model.score(X_train,y_train):.2%}\",sep=\"\\n\")"
   ]
  },
  {
   "cell_type": "code",
   "execution_count": 14,
   "metadata": {},
   "outputs": [
    {
     "name": "stdout",
     "output_type": "stream",
     "text": [
      "Test score at Tree = 96.73%\n",
      "Test score at forest = 97.02%\n"
     ]
    }
   ],
   "source": [
    "# Testing score on Tree\n",
    "y_pred_tree = best_tree_model.predict(X_test)\n",
    "score_of_tree = accuracy_score(y_test,y_pred_tree)\n",
    "# Testing score on random forest\n",
    "y_pred_forest = best_rf_model.predict(X_test)\n",
    "score_of_forest = accuracy_score(y_test,y_pred_forest)\n",
    "print(f\"Test score at Tree = {score_of_tree:.2%}\",f\"Test score at forest = {score_of_forest:.2%}\",sep='\\n')"
   ]
  },
  {
   "cell_type": "markdown",
   "metadata": {},
   "source": [
    "## They are equal as well! no one better than other, but may that forest kinda better and acceptable"
   ]
  },
  {
   "cell_type": "markdown",
   "metadata": {},
   "source": [
    "##### Let's try simple game, ok ? \n",
    "The first team secured the First Blood, First Tower, First Baron, First Dragon, and First Rift Herald, while the second team managed to claim only the First Inhibitor.\n",
    "\n",
    "Team 1 achieved 12 tower takedowns, 3 inhibitor takedowns, 2 Baron kills, and 5 dragon kills.\n",
    "\n",
    "On the other hand, Team 2 earned 9 tower takedowns, 3 inhibitor takedowns, 2 Baron kills, and 2 dragon kills."
   ]
  },
  {
   "cell_type": "code",
   "execution_count": 15,
   "metadata": {},
   "outputs": [
    {
     "data": {
      "text/html": [
       "<div>\n",
       "<style scoped>\n",
       "    .dataframe tbody tr th:only-of-type {\n",
       "        vertical-align: middle;\n",
       "    }\n",
       "\n",
       "    .dataframe tbody tr th {\n",
       "        vertical-align: top;\n",
       "    }\n",
       "\n",
       "    .dataframe thead th {\n",
       "        text-align: right;\n",
       "    }\n",
       "</style>\n",
       "<table border=\"1\" class=\"dataframe\">\n",
       "  <thead>\n",
       "    <tr style=\"text-align: right;\">\n",
       "      <th></th>\n",
       "      <th>0</th>\n",
       "      <th>1</th>\n",
       "      <th>2</th>\n",
       "      <th>3</th>\n",
       "      <th>4</th>\n",
       "      <th>5</th>\n",
       "      <th>6</th>\n",
       "      <th>7</th>\n",
       "      <th>8</th>\n",
       "      <th>9</th>\n",
       "      <th>10</th>\n",
       "      <th>11</th>\n",
       "      <th>12</th>\n",
       "      <th>13</th>\n",
       "    </tr>\n",
       "  </thead>\n",
       "  <tbody>\n",
       "    <tr>\n",
       "      <th>feature</th>\n",
       "      <td>first_blood</td>\n",
       "      <td>first_tower</td>\n",
       "      <td>first_inhibitor</td>\n",
       "      <td>first_Baron</td>\n",
       "      <td>first_Dragon</td>\n",
       "      <td>first_RiftHerald</td>\n",
       "      <td>t1_tower</td>\n",
       "      <td>t1_inhibitor</td>\n",
       "      <td>t1_baron</td>\n",
       "      <td>t1_dragon</td>\n",
       "      <td>t2_tower</td>\n",
       "      <td>t2_inhibitor</td>\n",
       "      <td>t2_baron</td>\n",
       "      <td>t2_dragon</td>\n",
       "    </tr>\n",
       "    <tr>\n",
       "      <th>value</th>\n",
       "      <td>1</td>\n",
       "      <td>1</td>\n",
       "      <td>2</td>\n",
       "      <td>1</td>\n",
       "      <td>1</td>\n",
       "      <td>1</td>\n",
       "      <td>12</td>\n",
       "      <td>3</td>\n",
       "      <td>2</td>\n",
       "      <td>5</td>\n",
       "      <td>9</td>\n",
       "      <td>3</td>\n",
       "      <td>2</td>\n",
       "      <td>2</td>\n",
       "    </tr>\n",
       "  </tbody>\n",
       "</table>\n",
       "</div>"
      ],
      "text/plain": [
       "                  0            1                2            3             4   \\\n",
       "feature  first_blood  first_tower  first_inhibitor  first_Baron  first_Dragon   \n",
       "value              1            1                2            1             1   \n",
       "\n",
       "                       5         6             7         8          9   \\\n",
       "feature  first_RiftHerald  t1_tower  t1_inhibitor  t1_baron  t1_dragon   \n",
       "value                   1        12             3         2          5   \n",
       "\n",
       "               10            11        12         13  \n",
       "feature  t2_tower  t2_inhibitor  t2_baron  t2_dragon  \n",
       "value           9             3         2          2  "
      ]
     },
     "execution_count": 15,
     "metadata": {},
     "output_type": "execute_result"
    }
   ],
   "source": [
    "game={\n",
    "    \"feature\":[\"first_blood\",\"first_tower\",\"first_inhibitor\",\"first_Baron\",\"first_Dragon\",\"first_RiftHerald\",\n",
    "\"t1_tower\",\"t1_inhibitor\",\"t1_baron\",\"t1_dragon\",\"t2_tower\",\"t2_inhibitor\",\"t2_baron\",\"t2_dragon\"],\n",
    "         \"value\":[1,1,2,1,1,1,12,3,2,5,9,3,2,2]}\n",
    "game_frame=pd.DataFrame(game).T\n",
    "game_frame"
   ]
  },
  {
   "cell_type": "code",
   "execution_count": 16,
   "metadata": {},
   "outputs": [
    {
     "name": "stdout",
     "output_type": "stream",
     "text": [
      "Using Tree:\n",
      "The Winner team will be: [1]\n",
      "The Percent of team 1 to win was :100%, while team number 2 was :0%\n",
      "Using RandomForest:\n",
      "The Winner team will be: [1]\n",
      "The Percent of team 1 to win was :66%, while team number 2 was :34%\n"
     ]
    }
   ],
   "source": [
    "results_of_game = game_frame.loc['value'].values.reshape(1, -1)\n",
    "print(\"Using Tree:\")\n",
    "print(\"The Winner team will be:\",best_tree_model.predict(results_of_game))\n",
    "print(f\"The Percent of team 1 to win was :{best_tree_model.predict_proba(results_of_game)[0][0]:.0%}, while team number 2 was :{best_tree_model.predict_proba(results_of_game)[0][1]:.0%}\")\n",
    "print(\"Using RandomForest:\")\n",
    "print(\"The Winner team will be:\",best_rf_model.predict(results_of_game))\n",
    "print(f\"The Percent of team 1 to win was :{best_rf_model.predict_proba(results_of_game)[0][0]:.0%}, while team number 2 was :{best_rf_model.predict_proba(results_of_game)[0][1]:.0%}\")"
   ]
  },
  {
   "cell_type": "code",
   "execution_count": 17,
   "metadata": {},
   "outputs": [
    {
     "name": "stdout",
     "output_type": "stream",
     "text": [
      "Done Tree model and rf\n"
     ]
    }
   ],
   "source": [
    "import pickle\n",
    "\n",
    "# Open the pickle file for reading (rb stands for \"read binary\")\n",
    "with open(\"tree.pkl\", \"wb\") as file:\n",
    "    # Load the data from the pickle file\n",
    "    loaded_data = pickle.dump(best_tree_model,file)\n",
    "\n",
    "# Open the pickle file for reading (rb stands for \"read binary\")\n",
    "with open(\"rf.pkl\", \"wb\") as file:\n",
    "    # Load the data from the pickle file\n",
    "    loaded_data = pickle.dump(best_rf_model,file)\n",
    "\n",
    "\n",
    "print(\"Done Tree model and rf\")\n"
   ]
  }
 ],
 "metadata": {
  "kernelspec": {
   "display_name": "Python 3",
   "language": "python",
   "name": "python3"
  },
  "language_info": {
   "codemirror_mode": {
    "name": "ipython",
    "version": 3
   },
   "file_extension": ".py",
   "mimetype": "text/x-python",
   "name": "python",
   "nbconvert_exporter": "python",
   "pygments_lexer": "ipython3",
   "version": "3.11.4"
  },
  "orig_nbformat": 4
 },
 "nbformat": 4,
 "nbformat_minor": 2
}
