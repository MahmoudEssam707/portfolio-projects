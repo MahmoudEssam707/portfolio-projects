{
 "cells": [
  {
   "cell_type": "markdown",
   "metadata": {},
   "source": [
    "<h1 align=\"center\"><b>SMS Classification</b>\n",
    "\n",
    "##### **The SMS Spam Collection is a set of SMS tagged messages that have been collected for SMS Spam research. It contains one set of SMS messages in English of 5,574 messages, tagged acording being ham (legitimate) or spam.**\n"
   ]
  },
  {
   "cell_type": "code",
   "execution_count": 1,
   "metadata": {},
   "outputs": [
    {
     "name": "stderr",
     "output_type": "stream",
     "text": [
      "[nltk_data] Downloading package stopwords to\n",
      "[nltk_data]     C:\\Users\\Lenovo\\AppData\\Roaming\\nltk_data...\n",
      "[nltk_data]   Package stopwords is already up-to-date!\n",
      "[nltk_data] Downloading package punkt to\n",
      "[nltk_data]     C:\\Users\\Lenovo\\AppData\\Roaming\\nltk_data...\n",
      "[nltk_data]   Package punkt is already up-to-date!\n",
      "[nltk_data] Downloading package wordnet to\n",
      "[nltk_data]     C:\\Users\\Lenovo\\AppData\\Roaming\\nltk_data...\n",
      "[nltk_data]   Package wordnet is already up-to-date!\n"
     ]
    },
    {
     "data": {
      "text/plain": [
       "True"
      ]
     },
     "execution_count": 1,
     "metadata": {},
     "output_type": "execute_result"
    }
   ],
   "source": [
    "import pandas as pd\n",
    "import re\n",
    "import nltk\n",
    "from nltk.corpus import stopwords\n",
    "from sklearn.feature_extraction.text import CountVectorizer\n",
    "from sklearn.model_selection import train_test_split\n",
    "from sklearn.feature_extraction.text import TfidfTransformer\n",
    "from sklearn.linear_model import LogisticRegression\n",
    "from sklearn.svm import SVC\n",
    "from sklearn.metrics import confusion_matrix\n",
    "from sklearn.naive_bayes import GaussianNB\n",
    "import seaborn as sns\n",
    "import matplotlib.pyplot as plt\n",
    "nltk.download(\"stopwords\")\n",
    "nltk.download(\"punkt\")\n",
    "nltk.download(\"wordnet\")"
   ]
  },
  {
   "cell_type": "code",
   "execution_count": 2,
   "metadata": {},
   "outputs": [],
   "source": [
    "file = open('spam.csv', \"r\", encoding=\"ISO-8859-1\")\n",
    "data = pd.read_csv(file)\n",
    "data = data.drop(data.columns[2:], axis=1)"
   ]
  },
  {
   "cell_type": "code",
   "execution_count": 3,
   "metadata": {},
   "outputs": [
    {
     "data": {
      "text/html": [
       "<div>\n",
       "<style scoped>\n",
       "    .dataframe tbody tr th:only-of-type {\n",
       "        vertical-align: middle;\n",
       "    }\n",
       "\n",
       "    .dataframe tbody tr th {\n",
       "        vertical-align: top;\n",
       "    }\n",
       "\n",
       "    .dataframe thead th {\n",
       "        text-align: right;\n",
       "    }\n",
       "</style>\n",
       "<table border=\"1\" class=\"dataframe\">\n",
       "  <thead>\n",
       "    <tr style=\"text-align: right;\">\n",
       "      <th></th>\n",
       "      <th>Text</th>\n",
       "      <th>Class</th>\n",
       "      <th>Length</th>\n",
       "    </tr>\n",
       "  </thead>\n",
       "  <tbody>\n",
       "    <tr>\n",
       "      <th>0</th>\n",
       "      <td>Go until jurong point, crazy.. Available only ...</td>\n",
       "      <td>0</td>\n",
       "      <td>111</td>\n",
       "    </tr>\n",
       "    <tr>\n",
       "      <th>1</th>\n",
       "      <td>Ok lar... Joking wif u oni...</td>\n",
       "      <td>0</td>\n",
       "      <td>29</td>\n",
       "    </tr>\n",
       "    <tr>\n",
       "      <th>2</th>\n",
       "      <td>Free entry in 2 a wkly comp to win FA Cup fina...</td>\n",
       "      <td>1</td>\n",
       "      <td>155</td>\n",
       "    </tr>\n",
       "    <tr>\n",
       "      <th>3</th>\n",
       "      <td>U dun say so early hor... U c already then say...</td>\n",
       "      <td>0</td>\n",
       "      <td>49</td>\n",
       "    </tr>\n",
       "    <tr>\n",
       "      <th>4</th>\n",
       "      <td>Nah I don't think he goes to usf, he lives aro...</td>\n",
       "      <td>0</td>\n",
       "      <td>61</td>\n",
       "    </tr>\n",
       "  </tbody>\n",
       "</table>\n",
       "</div>"
      ],
      "text/plain": [
       "                                                Text  Class  Length\n",
       "0  Go until jurong point, crazy.. Available only ...      0     111\n",
       "1                      Ok lar... Joking wif u oni...      0      29\n",
       "2  Free entry in 2 a wkly comp to win FA Cup fina...      1     155\n",
       "3  U dun say so early hor... U c already then say...      0      49\n",
       "4  Nah I don't think he goes to usf, he lives aro...      0      61"
      ]
     },
     "execution_count": 3,
     "metadata": {},
     "output_type": "execute_result"
    }
   ],
   "source": [
    "data['Class'] = data['v1'].map({'spam': 1, 'ham': 0})\n",
    "data = data.rename(columns={\"v2\":\"Text\"})\n",
    "data = data.drop([\"v1\"], axis=1)\n",
    "data[\"Length\"] = data[\"Text\"].apply(len)\n",
    "data.head()"
   ]
  },
  {
   "cell_type": "code",
   "execution_count": 4,
   "metadata": {},
   "outputs": [
    {
     "data": {
      "text/plain": [
       "['i', 'me', 'my', 'myself', 'we', 'our', 'ours', 'ourselves', 'you', \"you're\"]"
      ]
     },
     "execution_count": 4,
     "metadata": {},
     "output_type": "execute_result"
    }
   ],
   "source": [
    "total_stop_words = (\n",
    "    stopwords.words(\"english\")\n",
    "    + stopwords.words(\"spanish\")\n",
    "    + stopwords.words(\"french\")\n",
    "    + [\"ur\",\"im\",\"dont\",\"doin\",\"ure\",\"2\",\"4\",\"r\",\"u\",\"n\",\"lt\",\"gt\",\"amp\",\"ok\",\"pls\",\"v\",\"c\",\"n\",\"b\",\"wk\",\"th\",\"nd\",\"st\",\"rd\",\"th\",\"d\",\"e\",\"f\",\"g\",\"h\",\"i\",\"j\",\"k\",\"l\",\"m\",\"n\",\"o\",\"p\",\"q\",\"r\",\"s\",\"t\",\"u\",\"v\",\"w\",\"x\",\"y\",\"z\",\"ab\",\"ac\",\"ad\",\"ae\",\"af\",\"ag\",\"ah\",\"ai\",\"aj\",\"ak\",\"al\",\"am\",\"an\",\"ao\",\"ap\",\"aq\",\"ar\",\"as\",\"at\",\"au\",\"av\",\"aw\",\"ax\",\"ay\",\"az\",\"ba\",\"bb\",\"bc\",\"bd\",\"be\",\"bf\",\"bg\",\"bh\",\"bi\",\"bj\",\"bk\",\"bl\",\"bm\",\"bn\",\"bo\",\"bp\",\"bq\",\"br\",\"bs\",\"bt\",\"bu\",\"bv\",\"bw\",\"bx\",\"by\",\"bz\",\"ca\",\"cb\",\"cc\",\"cd\",\"ce\",\"cf\",\"cg\",\"ch\",\"ci\",\"cj\",\"ck\",\"cl\",\"cm\",\"cn\",\"co\",\"cp\",\"cq\",\"cr\",\"cs\",\"ct\",\"cu\",\"cv\",\"cw\",\"cx\",\"cy\",\"cz\",\"da\",\"db\",\"dc\",\"dd\",\"de\",\"df\",\"dg\",\"dh\",\"di\",\"dj\",\"dk\",\"dl\",\"dm\",\"dn\",\"do\",\"dp\",\"dq\",\"dr\",\"ds\",\"dt\",\"du\",\"dv\",\"dw\",\"dx\",\"dy\",\"dz\",\"ea\",\"eb\",\"ec\",\"ed\",\"ee\",\"ef\",\"eg\",\"eh\",\"ei\",\"ej\",\"ek\",\"el\",\"em\",\"en\",\"eo\",\"ep\",\"eq\",\"er\",\"es\",\"et\",\"eu\",\"ev\",\"ew\",\"ex\",\"ey\",\"ez\",\"fa\",\"fb\",\"fc\",\"fd\",\"fe\",\"ff\",\"fg\",\"fh\",\"fi\",\"fj\",\"fk\",\"fl\",\"fm\",\"fn\",\"fo\",\"fp\",\"fq\",\"fr\",\"fs\",\"ft\",\"fu\",\"fv\",\"fw\",\"fx\",\"fy\",\"fz\",\"ga\",\"gb\",\"gc\",\"gd\",\"ge\",\"gf\",\"gg\",\"gh\",\"gi\",\"gj\",\"gk\",\"gl\",\"gm\",\"gn\",\"go\",\"gp\",\"gq\",\"gr\",\"gs\",\"gt\",\"gu\",\"gv\",\"gw\",\"gx\",\"gy\",\"gz\",\"ha\",\"hb\",\"hc\",\"hd\",\"he\",\"hf\",\"hg\",\"hh\",\"hi\",\"hj\",\"hk\",\"hl\",\"hm\",\"hn\",\"ho\",\"hp\",\"hq\",\"hr\",\"hs\",\"ht\"]\n",
    ")\n",
    "total_stop_words[:10]"
   ]
  },
  {
   "cell_type": "code",
   "execution_count": 5,
   "metadata": {},
   "outputs": [],
   "source": [
    "def clean_text(text):\n",
    "    text = re.sub(r'[^\\w\\s]', '', text, re.UNICODE)\n",
    "    text = text.lower()\n",
    "    text = [word for word in text.split() if word not in total_stop_words]\n",
    "    text = \" \".join(text)\n",
    "    return text\n",
    "\n",
    "data['Text'] = data['Text'].apply(clean_text)"
   ]
  },
  {
   "cell_type": "code",
   "execution_count": 6,
   "metadata": {},
   "outputs": [
    {
     "data": {
      "text/html": [
       "<div>\n",
       "<style scoped>\n",
       "    .dataframe tbody tr th:only-of-type {\n",
       "        vertical-align: middle;\n",
       "    }\n",
       "\n",
       "    .dataframe tbody tr th {\n",
       "        vertical-align: top;\n",
       "    }\n",
       "\n",
       "    .dataframe thead th {\n",
       "        text-align: right;\n",
       "    }\n",
       "</style>\n",
       "<table border=\"1\" class=\"dataframe\">\n",
       "  <thead>\n",
       "    <tr style=\"text-align: right;\">\n",
       "      <th></th>\n",
       "      <th>Text</th>\n",
       "      <th>Class</th>\n",
       "      <th>Length</th>\n",
       "    </tr>\n",
       "  </thead>\n",
       "  <tbody>\n",
       "    <tr>\n",
       "      <th>0</th>\n",
       "      <td>jurong point crazy available bugis great world...</td>\n",
       "      <td>0</td>\n",
       "      <td>111</td>\n",
       "    </tr>\n",
       "    <tr>\n",
       "      <th>1</th>\n",
       "      <td>lar joking wif oni</td>\n",
       "      <td>0</td>\n",
       "      <td>29</td>\n",
       "    </tr>\n",
       "    <tr>\n",
       "      <th>2</th>\n",
       "      <td>free entry wkly comp win cup final tkts 21st m...</td>\n",
       "      <td>1</td>\n",
       "      <td>155</td>\n",
       "    </tr>\n",
       "    <tr>\n",
       "      <th>3</th>\n",
       "      <td>dun say early hor already say</td>\n",
       "      <td>0</td>\n",
       "      <td>49</td>\n",
       "    </tr>\n",
       "    <tr>\n",
       "      <th>4</th>\n",
       "      <td>nah think goes usf lives around though</td>\n",
       "      <td>0</td>\n",
       "      <td>61</td>\n",
       "    </tr>\n",
       "    <tr>\n",
       "      <th>...</th>\n",
       "      <td>...</td>\n",
       "      <td>...</td>\n",
       "      <td>...</td>\n",
       "    </tr>\n",
       "    <tr>\n",
       "      <th>5567</th>\n",
       "      <td>2nd time tried contact å750 pound prize claim ...</td>\n",
       "      <td>1</td>\n",
       "      <td>161</td>\n",
       "    </tr>\n",
       "    <tr>\n",
       "      <th>5568</th>\n",
       "      <td>ì_ going esplanade home</td>\n",
       "      <td>0</td>\n",
       "      <td>37</td>\n",
       "    </tr>\n",
       "    <tr>\n",
       "      <th>5569</th>\n",
       "      <td>pity mood soany suggestions</td>\n",
       "      <td>0</td>\n",
       "      <td>57</td>\n",
       "    </tr>\n",
       "    <tr>\n",
       "      <th>5570</th>\n",
       "      <td>guy bitching acted like id interested buying s...</td>\n",
       "      <td>0</td>\n",
       "      <td>125</td>\n",
       "    </tr>\n",
       "    <tr>\n",
       "      <th>5571</th>\n",
       "      <td>rofl true name</td>\n",
       "      <td>0</td>\n",
       "      <td>26</td>\n",
       "    </tr>\n",
       "  </tbody>\n",
       "</table>\n",
       "<p>5572 rows × 3 columns</p>\n",
       "</div>"
      ],
      "text/plain": [
       "                                                   Text  Class  Length\n",
       "0     jurong point crazy available bugis great world...      0     111\n",
       "1                                    lar joking wif oni      0      29\n",
       "2     free entry wkly comp win cup final tkts 21st m...      1     155\n",
       "3                         dun say early hor already say      0      49\n",
       "4                nah think goes usf lives around though      0      61\n",
       "...                                                 ...    ...     ...\n",
       "5567  2nd time tried contact å750 pound prize claim ...      1     161\n",
       "5568                            ì_ going esplanade home      0      37\n",
       "5569                        pity mood soany suggestions      0      57\n",
       "5570  guy bitching acted like id interested buying s...      0     125\n",
       "5571                                     rofl true name      0      26\n",
       "\n",
       "[5572 rows x 3 columns]"
      ]
     },
     "execution_count": 6,
     "metadata": {},
     "output_type": "execute_result"
    }
   ],
   "source": [
    "data"
   ]
  },
  {
   "cell_type": "code",
   "execution_count": 7,
   "metadata": {},
   "outputs": [
    {
     "data": {
      "text/html": [
       "<div>\n",
       "<style scoped>\n",
       "    .dataframe tbody tr th:only-of-type {\n",
       "        vertical-align: middle;\n",
       "    }\n",
       "\n",
       "    .dataframe tbody tr th {\n",
       "        vertical-align: top;\n",
       "    }\n",
       "\n",
       "    .dataframe thead th {\n",
       "        text-align: right;\n",
       "    }\n",
       "</style>\n",
       "<table border=\"1\" class=\"dataframe\">\n",
       "  <thead>\n",
       "    <tr style=\"text-align: right;\">\n",
       "      <th></th>\n",
       "      <th>Text</th>\n",
       "    </tr>\n",
       "  </thead>\n",
       "  <tbody>\n",
       "    <tr>\n",
       "      <th>count</th>\n",
       "      <td>5572</td>\n",
       "    </tr>\n",
       "    <tr>\n",
       "      <th>unique</th>\n",
       "      <td>5096</td>\n",
       "    </tr>\n",
       "    <tr>\n",
       "      <th>top</th>\n",
       "      <td></td>\n",
       "    </tr>\n",
       "    <tr>\n",
       "      <th>freq</th>\n",
       "      <td>31</td>\n",
       "    </tr>\n",
       "  </tbody>\n",
       "</table>\n",
       "</div>"
      ],
      "text/plain": [
       "        Text\n",
       "count   5572\n",
       "unique  5096\n",
       "top         \n",
       "freq      31"
      ]
     },
     "execution_count": 7,
     "metadata": {},
     "output_type": "execute_result"
    }
   ],
   "source": [
    "data['Text'].describe().to_frame()"
   ]
  },
  {
   "cell_type": "code",
   "execution_count": 8,
   "metadata": {},
   "outputs": [
    {
     "data": {
      "text/plain": [
       "<Axes: xlabel='Class', ylabel='count'>"
      ]
     },
     "execution_count": 8,
     "metadata": {},
     "output_type": "execute_result"
    },
    {
     "data": {
      "image/png": "[encoded data removed]",
      "text/plain": [
       "<Figure size 640x480 with 1 Axes>"
      ]
     },
     "metadata": {},
     "output_type": "display_data"
    }
   ],
   "source": [
    "sns.barplot(x=data[\"Class\"].value_counts().index, y=data[\"Class\"].value_counts())"
   ]
  },
  {
   "cell_type": "code",
   "execution_count": 9,
   "metadata": {},
   "outputs": [
    {
     "name": "stdout",
     "output_type": "stream",
     "text": [
      "Percentage of spam is 13.41% Percentage of ham is 86.59%\n"
     ]
    }
   ],
   "source": [
    "Percent_of_Spam = (data[\"Class\"].value_counts()[1]/data[\"Class\"].value_counts().sum())*100\n",
    "Percent_of_Ham = 100-Percent_of_Spam\n",
    "print(f\"Percentage of spam is {Percent_of_Spam:0.2f}%\", f\"Percentage of ham is {Percent_of_Ham:0.2f}%\")"
   ]
  },
  {
   "cell_type": "code",
   "execution_count": 10,
   "metadata": {},
   "outputs": [
    {
     "data": {
      "image/png": "[encoded data removed]",
      "text/plain": [
       "<Figure size 640x480 with 1 Axes>"
      ]
     },
     "metadata": {},
     "output_type": "display_data"
    }
   ],
   "source": [
    "data['Text'].str.len().plot(kind='hist', bins=100, title='Distribution of text length')\n",
    "plt.show()"
   ]
  },
  {
   "cell_type": "code",
   "execution_count": 11,
   "metadata": {},
   "outputs": [
    {
     "data": {
      "text/plain": [
       "'love start attractioni feel need every time around meshe first thing comes thoughtsi would start day end hershe every time dreamlove every breath namemy life happen around hermy life named heri would cry herwill give happiness take sorrowsi ready fight anyone heri love craziest things herlove proove anyone girl beautiful lady whole planeti always singing praises herlove start making chicken curry end makiing sambarlife beautiful thenwill get every morning thank god day mei would like say lotwill tell later'"
      ]
     },
     "execution_count": 11,
     "metadata": {},
     "output_type": "execute_result"
    }
   ],
   "source": [
    "Largest_Text = data[data[\"Text\"] == max(data[\"Text\"], key=len)]\n",
    "str(Largest_Text.Text.values[0])"
   ]
  },
  {
   "cell_type": "code",
   "execution_count": 12,
   "metadata": {},
   "outputs": [
    {
     "name": "stdout",
     "output_type": "stream",
     "text": [
      "call 576\n",
      "get 386\n",
      "free 275\n",
      "ltgt 258\n",
      "know 257\n",
      "like 242\n",
      "got 238\n",
      "ill 237\n",
      "good 234\n",
      "come 226\n",
      "time 208\n",
      "day 202\n",
      "love 195\n",
      "want 192\n",
      "send 190\n",
      "text 188\n",
      "one 173\n",
      "going 171\n",
      "need 166\n",
      "txt 163\n"
     ]
    },
    {
     "data": {
      "text/plain": [
       "<Axes: xlabel='word', ylabel='freq'>"
      ]
     },
     "execution_count": 12,
     "metadata": {},
     "output_type": "execute_result"
    },
    {
     "data": {
      "image/png": "[encoded data removed]",
      "text/plain": [
       "<Figure size 1600x800 with 1 Axes>"
      ]
     },
     "metadata": {},
     "output_type": "display_data"
    }
   ],
   "source": [
    "# Print each word with its frequency\n",
    "def get_top_n_words(corpus, n=None):\n",
    "    vec = CountVectorizer().fit(corpus)\n",
    "    bag_of_words = vec.transform(corpus)\n",
    "    sum_words = bag_of_words.sum(axis=0)\n",
    "    words_freq = [(word, sum_words[0, idx]) for word, idx in vec.vocabulary_.items()]\n",
    "    words_freq = sorted(words_freq, key=lambda x: x[1], reverse=True)\n",
    "    return words_freq[:n]\n",
    "\n",
    "common_words = get_top_n_words(data['Text'], 20)\n",
    "for word, freq in common_words:\n",
    "    print(word, freq)\n",
    "# Plot the most common words\n",
    "top_words = pd.DataFrame(common_words, columns=[\"word\", \"freq\"])\n",
    "fix,ax = plt.subplots(figsize=(16,8))\n",
    "top_words[\"Class\"] = data[\"Class\"].astype(str)\n",
    "sns.barplot(x=\"word\", y=\"freq\", data=top_words, hue=\"Class\")"
   ]
  },
  {
   "cell_type": "code",
   "execution_count": 13,
   "metadata": {},
   "outputs": [
    {
     "name": "stdout",
     "output_type": "stream",
     "text": [
      "Head of X_Train: \n",
      "1978                     boat still moms check half naked\n",
      "3989    bank granite issues strongbuy explosive pick m...\n",
      "3935                    giving second chance rahul dengra\n",
      "4078                   played smash bros ltgt religiously\n",
      "4086    private 2003 account statement 07973788240 sho...\n",
      "Name: Text, dtype: object\n",
      "\n",
      "\n",
      "Shape of X_train : \n",
      "1978                     boat still moms check half naked\n",
      "3989    bank granite issues strongbuy explosive pick m...\n",
      "3935                    giving second chance rahul dengra\n",
      "4078                   played smash bros ltgt religiously\n",
      "4086    private 2003 account statement 07973788240 sho...\n",
      "                              ...                        \n",
      "3772        came hostel going sleep plz call class hrishi\n",
      "5191                                 sorry ill call later\n",
      "5226                   prabhaim sorydarealyfrm heart sory\n",
      "5390                             nt joking seriously told\n",
      "860                                        work going min\n",
      "Name: Text, Length: 4457, dtype: object\n",
      "\n",
      "\n",
      "Shape of X_Test : \n",
      "3245    funny fact nobody teaches volcanoes erupt tsun...\n",
      "944     sent scores sophas secondary application schoo...\n",
      "1044    know someone know fancies call 09058097218 fin...\n",
      "2484    promise getting soon youll text morning let kn...\n",
      "812     congratulations awarded either å500 gift vouch...\n",
      "                              ...                        \n",
      "4264    ltdecimalgt common car better buy china asia f...\n",
      "2439         rightio 1148 well arent bright early morning\n",
      "5556                   yes thats texted pshewmissing much\n",
      "4205                                             get door\n",
      "4293    kit strip billed 150p netcollex ltd po box 101...\n",
      "Name: Text, Length: 1115, dtype: object\n",
      "\n",
      "\n",
      "Shape of Y_Train : \n",
      "1978    0\n",
      "3989    1\n",
      "3935    0\n",
      "4078    0\n",
      "4086    1\n",
      "       ..\n",
      "3772    0\n",
      "5191    0\n",
      "5226    0\n",
      "5390    0\n",
      "860     0\n",
      "Name: Class, Length: 4457, dtype: int64n\n",
      "\n",
      "\n",
      "Shape of Y_Test : \n",
      "3245    0\n",
      "944     0\n",
      "1044    1\n",
      "2484    0\n",
      "812     1\n",
      "       ..\n",
      "4264    0\n",
      "2439    0\n",
      "5556    0\n",
      "4205    0\n",
      "4293    1\n",
      "Name: Class, Length: 1115, dtype: int64\n"
     ]
    }
   ],
   "source": [
    "X = data[\"Text\"]\n",
    "y = data[\"Class\"]\n",
    "X_train, X_test, y_train, y_test = train_test_split(X, y, test_size=0.2, random_state=42)\n",
    "# Seperate the data into training and testing sets\n",
    "print(\n",
    "    f\"Head of X_Train: \\n{X_train.head()}\",\n",
    "    f\"Shape of X_train : \\n{X_train}\",\n",
    "    f\"Shape of X_Test : \\n{X_test}\",\n",
    "    f\"Shape of Y_Train : \\n{y_train}n\",\n",
    "    f\"Shape of Y_Test : \\n{y_test}\",\n",
    "    sep=\"\\n\\n\\n\",\n",
    ")"
   ]
  },
  {
   "cell_type": "code",
   "execution_count": 14,
   "metadata": {},
   "outputs": [],
   "source": [
    "vectorizer = CountVectorizer()\n",
    "X_train = vectorizer.fit_transform(X_train)\n",
    "X_test = vectorizer.transform(X_test)"
   ]
  },
  {
   "cell_type": "code",
   "execution_count": 15,
   "metadata": {},
   "outputs": [],
   "source": [
    "tfidf_transformer = TfidfTransformer()\n",
    "X_train = tfidf_transformer.fit_transform(X_train)\n",
    "X_test = tfidf_transformer.transform(X_test)"
   ]
  },
  {
   "cell_type": "code",
   "execution_count": 16,
   "metadata": {},
   "outputs": [
    {
     "name": "stdout",
     "output_type": "stream",
     "text": [
      "Logistic Regression Model Accuracy: 94.6%\n",
      "Support Vector Machine Model Accuracy: 97.5%\n",
      "Naive Bayes Model Accuracy: 88.3%\n"
     ]
    }
   ],
   "source": [
    "# Convert X_train and X_test from csr_matrix to DataFrame\n",
    "X_train = pd.DataFrame(X_train.toarray())\n",
    "X_test = pd.DataFrame(X_test.toarray())\n",
    "\n",
    "# Logistic Regression\n",
    "logistic_model = LogisticRegression()\n",
    "logistic_model.fit(X_train, y_train)\n",
    "logistic_score = logistic_model.score(X_test, y_test)\n",
    "print(f\"Logistic Regression Model Accuracy: {logistic_score:0.1%}\")\n",
    "\n",
    "# Support Vector Machine\n",
    "svm_model = SVC()\n",
    "svm_model.fit(X_train, y_train)\n",
    "svm_score = svm_model.score(X_test, y_test)\n",
    "print(f\"Support Vector Machine Model Accuracy: {svm_score:0.1%}\")\n",
    "\n",
    "# Naive Bayes\n",
    "naive_model = GaussianNB()\n",
    "naive_model.fit(X_train, y_train)\n",
    "naive_score = naive_model.score(X_test, y_test)\n",
    "print(f\"Naive Bayes Model Accuracy: {naive_score:0.1%}\")\n",
    "\n",
    "# Predictions\n",
    "logistic_predictions = logistic_model.predict(X_test)\n",
    "svm_predictions = svm_model.predict(X_test)\n",
    "naive_predictions = naive_model.predict(X_test)\n",
    "\n",
    "# Confusion Matrix\n",
    "logistic_confusion_matrix = confusion_matrix(y_test, logistic_predictions)\n",
    "svm_confusion_matrix = confusion_matrix(y_test, svm_predictions)\n",
    "naive_confusion_matrix = confusion_matrix(y_test, naive_predictions)"
   ]
  },
  {
   "cell_type": "code",
   "execution_count": 17,
   "metadata": {},
   "outputs": [
    {
     "data": {
      "image/png": "[encoded data removed]",
      "text/plain": [
       "<Figure size 2400x1200 with 6 Axes>"
      ]
     },
     "metadata": {},
     "output_type": "display_data"
    }
   ],
   "source": [
    "plt.figure(figsize=(24, 12))\n",
    "# Add axis\n",
    "\n",
    "\n",
    "plt.subplot(3, 3, 1)\n",
    "sns.heatmap(logistic_confusion_matrix, annot=True, fmt=\"d\", cmap=\"Blues\")\n",
    "plt.title(\"Logistic Regression Confusion Matrix\")\n",
    "plt.xlabel(\"Predicted\")\n",
    "plt.ylabel(\"Actual\")\n",
    "\n",
    "\n",
    "\n",
    "plt.subplot(3, 3, 2)\n",
    "sns.heatmap(svm_confusion_matrix, annot=True, fmt=\"d\", cmap=\"Blues\")\n",
    "plt.title(\"Support Vector Machine Confusion Matrix\")\n",
    "plt.xlabel(\"Predicted\")\n",
    "plt.ylabel(\"Actual\")\n",
    "\n",
    "\n",
    "plt.subplot(3, 3, 3)\n",
    "sns.heatmap(naive_confusion_matrix, annot=True, fmt=\"d\", cmap=\"Blues\",xticklabels=[\"ham\",\"spam\"],yticklabels=[\"ham\",\"spam\"])\n",
    "plt.title(\"Naive Bayes Confusion Matrix\")\n",
    "plt.xlabel(\"Predicted\")\n",
    "plt.ylabel(\"Actual\")\n",
    "\n",
    "plt.show()\n"
   ]
  },
  {
   "cell_type": "code",
   "execution_count": 18,
   "metadata": {},
   "outputs": [
    {
     "name": "stdout",
     "output_type": "stream",
     "text": [
      "Congratulations! You have won a free ticket to the Bahamas. Text 'WIN' to 12345 to claim your prize.\n",
      "\n",
      "Logistic Regression Prediction: Spam\n",
      "Support Vector Machine Prediction: Spam\n",
      "Naive Bayes Prediction: Spam\n",
      "\n",
      "Hello, how are you doing today?\n",
      "\n",
      "Logistic Regression Prediction: Ham\n",
      "Support Vector Machine Prediction: Ham\n",
      "Naive Bayes Prediction: Spam\n"
     ]
    }
   ],
   "source": [
    "def predict_text(text):\n",
    "    text = clean_text(text)\n",
    "    text = vectorizer.transform([text])\n",
    "    text = tfidf_transformer.transform(text)\n",
    "    text = pd.DataFrame(text.toarray())\n",
    "    logistic_prediction = logistic_model.predict(text)\n",
    "    svm_prediction = svm_model.predict(text)\n",
    "    naive_prediction = naive_model.predict(text)\n",
    "    logistic_prediction = \"Spam\" if logistic_prediction[0] == 1 else \"Ham\"\n",
    "    svm_prediction = \"Spam\" if svm_prediction[0] == 1 else \"Ham\"\n",
    "    naive_prediction = \"Spam\" if naive_prediction[0] == 1 else \"Ham\"\n",
    "    return logistic_prediction, svm_prediction, naive_prediction\n",
    "\n",
    "# Example 1\n",
    "text = \"Congratulations! You have won a free ticket to the Bahamas. Text 'WIN' to 12345 to claim your prize.\\n\"\n",
    "print(text)\n",
    "logistic_prediction, svm_prediction, naive_prediction = predict_text(text)\n",
    "print(f\"Logistic Regression Prediction: {logistic_prediction}\")\n",
    "print(f\"Support Vector Machine Prediction: {svm_prediction}\")\n",
    "print(f\"Naive Bayes Prediction: {naive_prediction}\\n\")\n",
    "# Example 2\n",
    "text = \"Hello, how are you doing today?\\n\"\n",
    "print(text)\n",
    "logistic_prediction, svm_prediction, naive_prediction = predict_text(text)\n",
    "print(f\"Logistic Regression Prediction: {logistic_prediction}\")\n",
    "print(f\"Support Vector Machine Prediction: {svm_prediction}\")\n",
    "print(f\"Naive Bayes Prediction: {naive_prediction}\")"
   ]
  },
  {
   "cell_type": "code",
   "execution_count": 19,
   "metadata": {},
   "outputs": [
    {
     "name": "stdout",
     "output_type": "stream",
     "text": [
      "Model, Vectorizer and TfidfTransformer exported successfully\n"
     ]
    }
   ],
   "source": [
    "# Export SVM Model, Vectorizer and TfidfTransformer\n",
    "import joblib\n",
    "joblib.dump(svm_model, \"spam_classifier.pkl\")\n",
    "joblib.dump(vectorizer, \"vectorizer.pkl\")\n",
    "joblib.dump(tfidf_transformer, \"tfidf_transformer.pkl\")\n",
    "print(\"Model, Vectorizer and TfidfTransformer exported successfully\")"
   ]
  }
 ],
 "metadata": {
  "kernelspec": {
   "display_name": "Python 3",
   "language": "python",
   "name": "python3"
  },
  "language_info": {
   "codemirror_mode": {
    "name": "ipython",
    "version": 3
   },
   "file_extension": ".py",
   "mimetype": "text/x-python",
   "name": "python",
   "nbconvert_exporter": "python",
   "pygments_lexer": "ipython3",
   "version": "3.11.0"
  }
 },
 "nbformat": 4,
 "nbformat_minor": 2
}
